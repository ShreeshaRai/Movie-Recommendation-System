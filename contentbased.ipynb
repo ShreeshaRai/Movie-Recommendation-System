{
 "cells": [
  {
   "cell_type": "raw",
   "id": "79a0464f-e5d8-433c-ba2a-f6a52b6710ae",
   "metadata": {},
   "source": []
  },
  {
   "cell_type": "code",
   "execution_count": 2,
   "id": "07c13254-a18d-45b1-ab22-170f4476b939",
   "metadata": {},
   "outputs": [
    {
     "data": {
      "text/html": [
       "<div>\n",
       "<style scoped>\n",
       "    .dataframe tbody tr th:only-of-type {\n",
       "        vertical-align: middle;\n",
       "    }\n",
       "\n",
       "    .dataframe tbody tr th {\n",
       "        vertical-align: top;\n",
       "    }\n",
       "\n",
       "    .dataframe thead th {\n",
       "        text-align: right;\n",
       "    }\n",
       "</style>\n",
       "<table border=\"1\" class=\"dataframe\">\n",
       "  <thead>\n",
       "    <tr style=\"text-align: right;\">\n",
       "      <th></th>\n",
       "      <th>movie_id</th>\n",
       "      <th>title</th>\n",
       "      <th>genres</th>\n",
       "      <th>director</th>\n",
       "      <th>cast</th>\n",
       "      <th>release_year</th>\n",
       "      <th>description</th>\n",
       "    </tr>\n",
       "  </thead>\n",
       "  <tbody>\n",
       "    <tr>\n",
       "      <th>0</th>\n",
       "      <td>1</td>\n",
       "      <td>Inception</td>\n",
       "      <td>Sci-Fi, Thriller</td>\n",
       "      <td>Christopher Nolan</td>\n",
       "      <td>Leonardo DiCaprio, Tom Hardy</td>\n",
       "      <td>2010</td>\n",
       "      <td>A thief steals secrets through dream invasion.</td>\n",
       "    </tr>\n",
       "    <tr>\n",
       "      <th>1</th>\n",
       "      <td>2</td>\n",
       "      <td>Titanic</td>\n",
       "      <td>Romance, Drama</td>\n",
       "      <td>James Cameron</td>\n",
       "      <td>Leonardo DiCaprio, Kate Winslet</td>\n",
       "      <td>1997</td>\n",
       "      <td>A tragic love story on a doomed ship.</td>\n",
       "    </tr>\n",
       "    <tr>\n",
       "      <th>2</th>\n",
       "      <td>3</td>\n",
       "      <td>Interstellar</td>\n",
       "      <td>Sci-Fi, Drama</td>\n",
       "      <td>Christopher Nolan</td>\n",
       "      <td>Matthew McConaughey, Anne Hathaway</td>\n",
       "      <td>2014</td>\n",
       "      <td>A team travels through a wormhole to save Earth.</td>\n",
       "    </tr>\n",
       "    <tr>\n",
       "      <th>3</th>\n",
       "      <td>4</td>\n",
       "      <td>The Dark Knight</td>\n",
       "      <td>Action, Crime, Drama</td>\n",
       "      <td>Christopher Nolan</td>\n",
       "      <td>Christian Bale, Heath Ledger</td>\n",
       "      <td>2008</td>\n",
       "      <td>Batman faces the chaos created by the Joker.</td>\n",
       "    </tr>\n",
       "    <tr>\n",
       "      <th>4</th>\n",
       "      <td>5</td>\n",
       "      <td>The Matrix</td>\n",
       "      <td>Sci-Fi, Action</td>\n",
       "      <td>The Wachowskis</td>\n",
       "      <td>Keanu Reeves, Laurence Fishburne</td>\n",
       "      <td>1999</td>\n",
       "      <td>A hacker learns about a simulated reality.</td>\n",
       "    </tr>\n",
       "  </tbody>\n",
       "</table>\n",
       "</div>"
      ],
      "text/plain": [
       "   movie_id            title                genres           director  \\\n",
       "0         1        Inception      Sci-Fi, Thriller  Christopher Nolan   \n",
       "1         2          Titanic        Romance, Drama      James Cameron   \n",
       "2         3     Interstellar         Sci-Fi, Drama  Christopher Nolan   \n",
       "3         4  The Dark Knight  Action, Crime, Drama  Christopher Nolan   \n",
       "4         5       The Matrix        Sci-Fi, Action     The Wachowskis   \n",
       "\n",
       "                                 cast  release_year  \\\n",
       "0        Leonardo DiCaprio, Tom Hardy          2010   \n",
       "1     Leonardo DiCaprio, Kate Winslet          1997   \n",
       "2  Matthew McConaughey, Anne Hathaway          2014   \n",
       "3        Christian Bale, Heath Ledger          2008   \n",
       "4    Keanu Reeves, Laurence Fishburne          1999   \n",
       "\n",
       "                                        description  \n",
       "0    A thief steals secrets through dream invasion.  \n",
       "1             A tragic love story on a doomed ship.  \n",
       "2  A team travels through a wormhole to save Earth.  \n",
       "3      Batman faces the chaos created by the Joker.  \n",
       "4        A hacker learns about a simulated reality.  "
      ]
     },
     "execution_count": 2,
     "metadata": {},
     "output_type": "execute_result"
    }
   ],
   "source": [
    "import pandas as pd\n",
    "movies_df=pd.read_csv(\"movies.csv\")\n",
    "movies_df.head()"
   ]
  },
  {
   "cell_type": "markdown",
   "id": "630c1e11-e51d-4afd-8e69-2b1e9244853c",
   "metadata": {},
   "source": [
    "movies_df.isnull().sum()"
   ]
  },
  {
   "cell_type": "markdown",
   "id": "23baee4a-5499-4f13-b128-c71cce46da68",
   "metadata": {},
   "source": []
  },
  {
   "cell_type": "code",
   "execution_count": 5,
   "id": "ac51f982-4069-4109-a9ec-4154175d77ac",
   "metadata": {},
   "outputs": [
    {
     "data": {
      "text/html": [
       "<div>\n",
       "<style scoped>\n",
       "    .dataframe tbody tr th:only-of-type {\n",
       "        vertical-align: middle;\n",
       "    }\n",
       "\n",
       "    .dataframe tbody tr th {\n",
       "        vertical-align: top;\n",
       "    }\n",
       "\n",
       "    .dataframe thead th {\n",
       "        text-align: right;\n",
       "    }\n",
       "</style>\n",
       "<table border=\"1\" class=\"dataframe\">\n",
       "  <thead>\n",
       "    <tr style=\"text-align: right;\">\n",
       "      <th></th>\n",
       "      <th>title</th>\n",
       "      <th>combined_features</th>\n",
       "    </tr>\n",
       "  </thead>\n",
       "  <tbody>\n",
       "    <tr>\n",
       "      <th>0</th>\n",
       "      <td>Inception</td>\n",
       "      <td>Inception Sci-Fi, Thriller Christopher Nolan L...</td>\n",
       "    </tr>\n",
       "    <tr>\n",
       "      <th>1</th>\n",
       "      <td>Titanic</td>\n",
       "      <td>Titanic Romance, Drama James Cameron Leonardo ...</td>\n",
       "    </tr>\n",
       "    <tr>\n",
       "      <th>2</th>\n",
       "      <td>Interstellar</td>\n",
       "      <td>Interstellar Sci-Fi, Drama Christopher Nolan M...</td>\n",
       "    </tr>\n",
       "    <tr>\n",
       "      <th>3</th>\n",
       "      <td>The Dark Knight</td>\n",
       "      <td>The Dark Knight Action, Crime, Drama Christoph...</td>\n",
       "    </tr>\n",
       "    <tr>\n",
       "      <th>4</th>\n",
       "      <td>The Matrix</td>\n",
       "      <td>The Matrix Sci-Fi, Action The Wachowskis Keanu...</td>\n",
       "    </tr>\n",
       "  </tbody>\n",
       "</table>\n",
       "</div>"
      ],
      "text/plain": [
       "             title                                  combined_features\n",
       "0        Inception  Inception Sci-Fi, Thriller Christopher Nolan L...\n",
       "1          Titanic  Titanic Romance, Drama James Cameron Leonardo ...\n",
       "2     Interstellar  Interstellar Sci-Fi, Drama Christopher Nolan M...\n",
       "3  The Dark Knight  The Dark Knight Action, Crime, Drama Christoph...\n",
       "4       The Matrix  The Matrix Sci-Fi, Action The Wachowskis Keanu..."
      ]
     },
     "execution_count": 5,
     "metadata": {},
     "output_type": "execute_result"
    }
   ],
   "source": [
    "movies_df['combined_features']=(\n",
    "    movies_df['title']+' '+movies_df['genres']+' '+movies_df['director']+' '+movies_df['cast']+' '+movies_df['description']\n",
    ")\n",
    "movies_df[['title','combined_features']].head()"
   ]
  },
  {
   "cell_type": "raw",
   "id": "cd3b3fba-c5a1-4aaf-aff4-327102f209e0",
   "metadata": {},
   "source": []
  },
  {
   "cell_type": "code",
   "execution_count": 6,
   "id": "e5b2cacf-0bf8-494a-a226-9e289f242106",
   "metadata": {},
   "outputs": [
    {
     "name": "stdout",
     "output_type": "stream",
     "text": [
      "TF-IDF Matrix Shape: (170, 1383)\n"
     ]
    }
   ],
   "source": [
    "from sklearn.feature_extraction.text import TfidfVectorizer\n",
    "tfidf=TfidfVectorizer(stop_words='english')\n",
    "tfidf_matrix=tfidf.fit_transform(movies_df['combined_features'])\n",
    "print(\"TF-IDF Matrix Shape:\",tfidf_matrix.shape)"
   ]
  },
  {
   "cell_type": "code",
   "execution_count": 8,
   "id": "5daeca15-889b-4fac-96aa-e7f757f5e90f",
   "metadata": {},
   "outputs": [
    {
     "name": "stdout",
     "output_type": "stream",
     "text": [
      "Cosine Similarity Matrix Shape: (170, 170)\n"
     ]
    }
   ],
   "source": [
    "from sklearn.metrics.pairwise import cosine_similarity\n",
    "cosine_sim=cosine_similarity(tfidf_matrix,tfidf_matrix)\n",
    "print('Cosine Similarity Matrix Shape:',cosine_sim.shape)"
   ]
  },
  {
   "cell_type": "code",
   "execution_count": 14,
   "id": "6f1d6168-f4c7-43e9-b938-419f4eaf6481",
   "metadata": {},
   "outputs": [],
   "source": [
    "def get_index_from_title(title):\n",
    "    return movies_df[movies_df['title'].str.lower() == title.lower()].index.values[0]\n",
    "\n",
    "def get_title_from_index(index):\n",
    "    return movies_df.iloc[index]['title']\n",
    "\n",
    "\n",
    "def recommend_movies(movie_title, num_recommendations=5):\n",
    "    try:\n",
    "        movie_index = get_index_from_title(movie_title)\n",
    "        similarity_scores = list(enumerate(cosine_sim[movie_index]))\n",
    "        sorted_similar_movies = sorted(similarity_scores, key=lambda x: x[1], reverse=True)[1:num_recommendations+1]\n",
    "        \n",
    "        print(f\"\\nMovies similar to '{movie_title}':\\n\")\n",
    "        for i, (index, score) in enumerate(sorted_similar_movies, 1):\n",
    "            print(f\"{i}. {get_title_from_index(index)}  (Similarity Score: {round(score, 2)})\")\n",
    "    \n",
    "    except IndexError:\n",
    "        print(\" Movie not found. Please check the title\")"
   ]
  },
  {
   "cell_type": "code",
   "execution_count": 15,
   "id": "596f71b8-144c-429e-9972-758e6533056c",
   "metadata": {},
   "outputs": [
    {
     "name": "stdout",
     "output_type": "stream",
     "text": [
      "\n",
      "Movies similar to 'inception':\n",
      "\n",
      "1. The Revenant  (Similarity Score: 0.3)\n",
      "2. Interstellar  (Similarity Score: 0.18)\n",
      "3. Tenet  (Similarity Score: 0.17)\n",
      "4. Titanic  (Similarity Score: 0.14)\n",
      "5. The Prestige  (Similarity Score: 0.12)\n"
     ]
    }
   ],
   "source": [
    "recommend_movies(\"inception\")"
   ]
  },
  {
   "cell_type": "code",
   "execution_count": null,
   "id": "111af5f7-c707-4edf-8b2f-a8dbc936ab5c",
   "metadata": {},
   "outputs": [],
   "source": [
    "\n"
   ]
  },
  {
   "cell_type": "code",
   "execution_count": null,
   "id": "84adeb97-7212-4b5c-921c-956bc885e236",
   "metadata": {},
   "outputs": [],
   "source": [
    "\n"
   ]
  },
  {
   "cell_type": "code",
   "execution_count": null,
   "id": "d93f04c8-cd4e-49a5-823b-b63e989e3c15",
   "metadata": {},
   "outputs": [],
   "source": []
  },
  {
   "cell_type": "code",
   "execution_count": null,
   "id": "aedbf338-a4e5-4ba2-ba4c-dd72dab57cff",
   "metadata": {},
   "outputs": [],
   "source": [
    "\n"
   ]
  },
  {
   "cell_type": "code",
   "execution_count": null,
   "id": "a458ee68-f019-4e68-ba7c-a27bf9ce81bc",
   "metadata": {},
   "outputs": [],
   "source": [
    "\n"
   ]
  },
  {
   "cell_type": "code",
   "execution_count": null,
   "id": "c39ec210-9e02-4146-9083-0b8665ea1fae",
   "metadata": {},
   "outputs": [],
   "source": [
    "\n"
   ]
  },
  {
   "cell_type": "code",
   "execution_count": null,
   "id": "ae169521-7bf4-48df-8837-1478fc113fb3",
   "metadata": {},
   "outputs": [],
   "source": []
  },
  {
   "cell_type": "code",
   "execution_count": null,
   "id": "03c7772c-2ccf-4607-be45-c8adae35e6b9",
   "metadata": {},
   "outputs": [],
   "source": []
  }
 ],
 "metadata": {
  "kernelspec": {
   "display_name": "Python [conda env:base] *",
   "language": "python",
   "name": "conda-base-py"
  },
  "language_info": {
   "codemirror_mode": {
    "name": "ipython",
    "version": 3
   },
   "file_extension": ".py",
   "mimetype": "text/x-python",
   "name": "python",
   "nbconvert_exporter": "python",
   "pygments_lexer": "ipython3",
   "version": "3.13.5"
  }
 },
 "nbformat": 4,
 "nbformat_minor": 5
}
