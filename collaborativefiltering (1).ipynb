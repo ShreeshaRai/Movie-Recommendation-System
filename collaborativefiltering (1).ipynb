{
 "cells": [
  {
   "cell_type": "code",
   "execution_count": 1,
   "id": "1c52d64c-7252-4e54-a011-09c89533d4c6",
   "metadata": {},
   "outputs": [
    {
     "name": "stdout",
     "output_type": "stream",
     "text": [
      "surprise is ready!\n"
     ]
    }
   ],
   "source": [
    "from surprise import SVD\n",
    "print(\"surprise is ready!\")"
   ]
  },
  {
   "cell_type": "code",
   "execution_count": 7,
   "id": "83bb7c9f-8913-4d75-8622-7f883a218e4c",
   "metadata": {
    "jupyter": {
     "source_hidden": true
    }
   },
   "outputs": [],
   "source": [
    "import pandas as pd\n",
    "from surprise import Dataset,Reader,SVD\n",
    "from surprise.model_selection import train_test_split\n",
    "from surprise import accuracy\n"
   ]
  },
  {
   "cell_type": "code",
   "execution_count": 19,
   "id": "a502d230-a989-4ac3-b00c-37f38a861acb",
   "metadata": {},
   "outputs": [
    {
     "name": "stdout",
     "output_type": "stream",
     "text": [
      "   user_id  movie_id  rating   timestamp\n",
      "0        1        10     4.4  1690753891\n",
      "1        1       163     1.7  1575161132\n",
      "2        1        45     4.0  1043865176\n",
      "3        1        67     3.2  1411173669\n",
      "4        1       164     1.3  1433740455\n"
     ]
    }
   ],
   "source": [
    "ratings_df=pd.read_csv(\"ratings.csv\")\n",
    "movies_df=pd.read_csv(\"movies.csv\")\n",
    "print(ratings_df.head())\n",
    "\n",
    "reader=Reader(rating_scale=(1,5))\n",
    "data=Dataset.load_from_df(ratings_df[['user_id','movie_id','rating']],reader)"
   ]
  },
  {
   "cell_type": "code",
   "execution_count": 10,
   "id": "15524631-b8dc-4933-ad35-3ae7dc8035ed",
   "metadata": {},
   "outputs": [
    {
     "data": {
      "text/plain": [
       "<surprise.prediction_algorithms.matrix_factorization.SVD at 0x24c85008250>"
      ]
     },
     "execution_count": 10,
     "metadata": {},
     "output_type": "execute_result"
    }
   ],
   "source": [
    "trainset,testset=train_test_split(data,test_size=0.2)\n",
    "model=SVD()\n",
    "model.fit(trainset)"
   ]
  },
  {
   "cell_type": "code",
   "execution_count": null,
   "id": "0650be7d-6b17-49c6-a2b8-d504d030f886",
   "metadata": {},
   "outputs": [],
   "source": []
  },
  {
   "cell_type": "code",
   "execution_count": 14,
   "id": "e36f0a84-0c8e-4bb7-baba-ff7ab5925ba1",
   "metadata": {},
   "outputs": [
    {
     "name": "stdout",
     "output_type": "stream",
     "text": [
      "Predicted rating by user 1 for for movie 104: 2.741533904792866\n"
     ]
    }
   ],
   "source": [
    "pred=model.predict(1,104)\n",
    "print(f\"Predicted rating by user 1 for for movie 104: {pred.est}\")"
   ]
  },
  {
   "cell_type": "code",
   "execution_count": 16,
   "id": "684b9ed2-2196-47dc-adfd-7dd66ca2876c",
   "metadata": {},
   "outputs": [
    {
     "name": "stdout",
     "output_type": "stream",
     "text": [
      "top 5 recommended movie ID's for user 1:\n",
      "Movie ID:21 | Predicted Rating: 3.47\n",
      "Movie ID:158 | Predicted Rating: 3.42\n",
      "Movie ID:120 | Predicted Rating: 3.41\n",
      "Movie ID:132 | Predicted Rating: 3.39\n",
      "Movie ID:101 | Predicted Rating: 3.32\n"
     ]
    }
   ],
   "source": [
    "all_movie_ids=ratings_df['movie_id'].unique()\n",
    "user_id=1\n",
    "predictions=[]\n",
    "for movie_id in all_movie_ids:\n",
    "    pred=model.predict(user_id,movie_id)\n",
    "    predictions.append((movie_id,pred.est))\n",
    "top_n=sorted(predictions, key=lambda x:x[1],reverse=True)[:5]\n",
    "print(\"top 5 recommended movie ID's for user 1:\")\n",
    "for movie_id,rating in top_n:\n",
    "    print(f\"Movie ID:{movie_id} | Predicted Rating: {round(rating,2)}\")"
   ]
  },
  {
   "cell_type": "code",
   "execution_count": 17,
   "id": "5f4fe091-38a7-416d-b4ee-db185c918a99",
   "metadata": {},
   "outputs": [],
   "source": [
    "def recommend_movies(user_id, model, ratings_df, movies_df, n=5):\n",
    "    \n",
    "    all_movie_ids = ratings_df['movie_id'].unique()\n",
    "\n",
    "    \n",
    "    predictions = []\n",
    "    for movie_id in all_movie_ids:\n",
    "        pred = model.predict(user_id, movie_id)\n",
    "        predictions.append((movie_id, pred.est))\n",
    "\n",
    "    \n",
    "    top_n = sorted(predictions, key=lambda x: x[1], reverse=True)[:n]\n",
    "\n",
    "\n",
    "    print(f\"\\n🎬 Top {n} recommended movies for User {user_id}:\")\n",
    "    for movie_id, rating in top_n:\n",
    "        title = movies_df[movies_df['movie_id'] == movie_id]['title'].values[0]\n",
    "        print(f\"{title} (Movie ID: {movie_id}) — Predicted Rating: {round(rating, 2)}\")\n"
   ]
  },
  {
   "cell_type": "code",
   "execution_count": 20,
   "id": "8ed486b6-16c6-4e01-9abd-e905bdab0ef6",
   "metadata": {},
   "outputs": [
    {
     "name": "stdout",
     "output_type": "stream",
     "text": [
      "\n",
      "🎬 Top 5 recommended movies for User 3:\n",
      "Rangasthalam (Movie ID: 167) — Predicted Rating: 3.76\n",
      "Rockstar (Movie ID: 70) — Predicted Rating: 3.73\n",
      "Drishyam (Movie ID: 68) — Predicted Rating: 3.7\n",
      "The Hunger Games (Movie ID: 21) — Predicted Rating: 3.62\n",
      "Vettaiyaadu Vilaiyaadu (Movie ID: 120) — Predicted Rating: 3.6\n"
     ]
    }
   ],
   "source": [
    "recommend_movies(user_id=3, model=model, ratings_df=ratings_df, movies_df=movies_df, n=5)\n"
   ]
  },
  {
   "cell_type": "code",
   "execution_count": null,
   "id": "22133d55-54c4-41aa-a818-f91464990ad9",
   "metadata": {},
   "outputs": [],
   "source": [
    "im"
   ]
  }
 ],
 "metadata": {
  "kernelspec": {
   "display_name": "Python(surprise_env)",
   "language": "python",
   "name": "surprise_env"
  },
  "language_info": {
   "codemirror_mode": {
    "name": "ipython",
    "version": 3
   },
   "file_extension": ".py",
   "mimetype": "text/x-python",
   "name": "python",
   "nbconvert_exporter": "python",
   "pygments_lexer": "ipython3",
   "version": "3.9.23"
  }
 },
 "nbformat": 4,
 "nbformat_minor": 5
}
